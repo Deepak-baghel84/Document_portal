{
 "cells": [
  {
   "cell_type": "code",
   "execution_count": 1,
   "id": "a36bfcc5",
   "metadata": {},
   "outputs": [
    {
     "name": "stdout",
     "output_type": "stream",
     "text": [
      "hello world\n"
     ]
    }
   ],
   "source": [
    "print(\"hello world\")"
   ]
  },
  {
   "cell_type": "code",
   "execution_count": 13,
   "id": "43c93aa2",
   "metadata": {},
   "outputs": [],
   "source": [
    "from langchain_groq import ChatGroq\n",
    "from langchain import OpenAI"
   ]
  },
  {
   "cell_type": "code",
   "execution_count": 22,
   "id": "37e47b30",
   "metadata": {},
   "outputs": [],
   "source": [
    "from dotenv import load_dotenv"
   ]
  },
  {
   "cell_type": "code",
   "execution_count": 23,
   "id": "d033aaa8",
   "metadata": {},
   "outputs": [
    {
     "data": {
      "text/plain": [
       "True"
      ]
     },
     "execution_count": 23,
     "metadata": {},
     "output_type": "execute_result"
    }
   ],
   "source": [
    "load_dotenv()"
   ]
  },
  {
   "cell_type": "code",
   "execution_count": 24,
   "id": "3b6e6fe1",
   "metadata": {},
   "outputs": [],
   "source": [
    "model = ChatGroq(model=\"qwen/qwen3-32b\")"
   ]
  },
  {
   "cell_type": "code",
   "execution_count": 25,
   "id": "053ae61e",
   "metadata": {},
   "outputs": [
    {
     "data": {
      "text/plain": [
       "AIMessage(content=\"<think>\\nOkay, so the user is asking for the capital of France. Let me think. I remember that France is a country in Europe, and the capital is a well-known city. Maybe Paris? Wait, isn't Paris famous for the Eiffel Tower and the Louvre Museum? Yeah, that sounds right. But wait, could it be another city? Let me double-check. I think some people might confuse it with Lyon or Marseille, but those are other major cities in France. No, the capital is definitely Paris. It's the political, economic, and cultural center of the country. I'm pretty confident the answer is Paris. Let me just make sure there's no recent change, but I don't think the capital has ever changed. So, the answer should be Paris.\\n</think>\\n\\nThe capital of France is **Paris**. It is renowned for its historical landmarks, such as the Eiffel Tower, the Louvre Museum, and Notre-Dame Cathedral, and serves as the political, economic, and cultural hub of the country.\", additional_kwargs={}, response_metadata={'token_usage': {'completion_tokens': 215, 'prompt_tokens': 15, 'total_tokens': 230, 'completion_time': 0.478531044, 'prompt_time': 0.000520893, 'queue_time': 0.049691843, 'total_time': 0.479051937}, 'model_name': 'qwen/qwen3-32b', 'system_fingerprint': 'fp_f17c2eb555', 'service_tier': 'on_demand', 'finish_reason': 'stop', 'logprobs': None}, id='run--6a5ce76e-0845-40cd-9045-764fee83668a-0', usage_metadata={'input_tokens': 15, 'output_tokens': 215, 'total_tokens': 230})"
      ]
     },
     "execution_count": 25,
     "metadata": {},
     "output_type": "execute_result"
    }
   ],
   "source": [
    "model.invoke(\"What is the capital of France?\")  # Example usage"
   ]
  }
 ],
 "metadata": {
  "kernelspec": {
   "display_name": "myenv (3.12.3)",
   "language": "python",
   "name": "python3"
  },
  "language_info": {
   "codemirror_mode": {
    "name": "ipython",
    "version": 3
   },
   "file_extension": ".py",
   "mimetype": "text/x-python",
   "name": "python",
   "nbconvert_exporter": "python",
   "pygments_lexer": "ipython3",
   "version": "3.12.3"
  }
 },
 "nbformat": 4,
 "nbformat_minor": 5
}
