{
 "cells": [
  {
   "cell_type": "code",
   "execution_count": 1,
   "id": "a36bfcc5",
   "metadata": {},
   "outputs": [
    {
     "name": "stdout",
     "output_type": "stream",
     "text": [
      "hello world\n"
     ]
    }
   ],
   "source": [
    "print(\"hello world\")"
   ]
  },
  {
   "cell_type": "code",
   "execution_count": 13,
   "id": "43c93aa2",
   "metadata": {},
   "outputs": [],
   "source": [
    "from langchain_groq import ChatGroq\n",
    "from langchain import OpenAI"
   ]
  },
  {
   "cell_type": "code",
   "execution_count": 22,
   "id": "37e47b30",
   "metadata": {},
   "outputs": [],
   "source": [
    "from dotenv import load_dotenv"
   ]
  },
  {
   "cell_type": "code",
   "execution_count": 23,
   "id": "d033aaa8",
   "metadata": {},
   "outputs": [
    {
     "data": {
      "text/plain": [
       "True"
      ]
     },
     "execution_count": 23,
     "metadata": {},
     "output_type": "execute_result"
    }
   ],
   "source": [
    "load_dotenv()"
   ]
  },
  {
   "cell_type": "code",
   "execution_count": 24,
   "id": "3b6e6fe1",
   "metadata": {},
   "outputs": [],
   "source": [
    "model = ChatGroq(model=\"qwen/qwen3-32b\")"
   ]
  },
  {
   "cell_type": "code",
   "execution_count": 25,
   "id": "053ae61e",
   "metadata": {},
   "outputs": [
    {
     "data": {
      "text/plain": [
       "AIMessage(content=\"<think>\\nOkay, so the user is asking for the capital of France. Let me think. I remember that France is a country in Europe, and the capital is a well-known city. Maybe Paris? Wait, isn't Paris famous for the Eiffel Tower and the Louvre Museum? Yeah, that sounds right. But wait, could it be another city? Let me double-check. I think some people might confuse it with Lyon or Marseille, but those are other major cities in France. No, the capital is definitely Paris. It's the political, economic, and cultural center of the country. I'm pretty confident the answer is Paris. Let me just make sure there's no recent change, but I don't think the capital has ever changed. So, the answer should be Paris.\\n</think>\\n\\nThe capital of France is **Paris**. It is renowned for its historical landmarks, such as the Eiffel Tower, the Louvre Museum, and Notre-Dame Cathedral, and serves as the political, economic, and cultural hub of the country.\", additional_kwargs={}, response_metadata={'token_usage': {'completion_tokens': 215, 'prompt_tokens': 15, 'total_tokens': 230, 'completion_time': 0.478531044, 'prompt_time': 0.000520893, 'queue_time': 0.049691843, 'total_time': 0.479051937}, 'model_name': 'qwen/qwen3-32b', 'system_fingerprint': 'fp_f17c2eb555', 'service_tier': 'on_demand', 'finish_reason': 'stop', 'logprobs': None}, id='run--6a5ce76e-0845-40cd-9045-764fee83668a-0', usage_metadata={'input_tokens': 15, 'output_tokens': 215, 'total_tokens': 230})"
      ]
     },
     "execution_count": 25,
     "metadata": {},
     "output_type": "execute_result"
    }
   ],
   "source": [
    "model.invoke(\"What is the capital of France?\")  # Example usage"
   ]
  },
  {
   "cell_type": "code",
   "execution_count": 14,
   "id": "660321ba",
   "metadata": {},
   "outputs": [],
   "source": [
    "from utills.config_util import load_config\n",
    "import yaml\n",
    "\n",
    "def test_load_config():\n",
    "    config = load_config(\"config/config.yaml\")\n",
    "    assert isinstance(config, dict), \"Config should be a dictionary\"\n",
    "    assert \"models\" in config, \"Config should contain 'models' key\"\n",
    "    assert isinstance(config[\"models\"], list), \"Models should be a list\"\n",
    "    assert len(config[\"models\"]) > 0, \"Models list should not be empty\"\n"
   ]
  },
  {
   "cell_type": "code",
   "execution_count": 17,
   "id": "afaeba2d",
   "metadata": {},
   "outputs": [
    {
     "ename": "FileNotFoundError",
     "evalue": "[Errno 2] No such file or directory: 'config\\\\config.yaml'",
     "output_type": "error",
     "traceback": [
      "\u001b[31m---------------------------------------------------------------------------\u001b[39m",
      "\u001b[31mFileNotFoundError\u001b[39m                         Traceback (most recent call last)",
      "\u001b[36mCell\u001b[39m\u001b[36m \u001b[39m\u001b[32mIn[17]\u001b[39m\u001b[32m, line 3\u001b[39m\n\u001b[32m      1\u001b[39m \u001b[38;5;28;01mfrom\u001b[39;00m\u001b[38;5;250m \u001b[39m\u001b[34;01mutills\u001b[39;00m\u001b[34;01m.\u001b[39;00m\u001b[34;01mconfig_util\u001b[39;00m\u001b[38;5;250m \u001b[39m\u001b[38;5;28;01mimport\u001b[39;00m load_config\n\u001b[32m----> \u001b[39m\u001b[32m3\u001b[39m config = \u001b[43mload_config\u001b[49m\u001b[43m(\u001b[49m\u001b[43m)\u001b[49m\n",
      "\u001b[36mFile \u001b[39m\u001b[32mC:\\Genai_projects\\Document_portal\\utills\\config_util.py:12\u001b[39m, in \u001b[36mload_config\u001b[39m\u001b[34m(file_path)\u001b[39m\n\u001b[32m      5\u001b[39m \u001b[38;5;28;01mdef\u001b[39;00m\u001b[38;5;250m \u001b[39m\u001b[34mload_config\u001b[39m(file_path:\u001b[38;5;28mstr\u001b[39m = \u001b[33m\"\u001b[39m\u001b[33mconfig\u001b[39m\u001b[33m\\\u001b[39m\u001b[33mconfig.yaml\u001b[39m\u001b[33m\"\u001b[39m) -> \u001b[38;5;28mdict\u001b[39m:\n\u001b[32m      6\u001b[39m \u001b[38;5;250m    \u001b[39m\u001b[33;03m\"\"\"\u001b[39;00m\n\u001b[32m      7\u001b[39m \u001b[33;03m    Load configuration from a YAML file.\u001b[39;00m\n\u001b[32m      8\u001b[39m \u001b[33;03m    \u001b[39;00m\n\u001b[32m      9\u001b[39m \u001b[33;03m    :param file_path: Path to the YAML configuration file.\u001b[39;00m\n\u001b[32m     10\u001b[39m \u001b[33;03m    :return: Dictionary containing the configuration.\u001b[39;00m\n\u001b[32m     11\u001b[39m \u001b[33;03m    \"\"\"\u001b[39;00m\n\u001b[32m---> \u001b[39m\u001b[32m12\u001b[39m     \u001b[38;5;28;01mwith\u001b[39;00m \u001b[38;5;28;43mopen\u001b[39;49m\u001b[43m(\u001b[49m\u001b[43mfile_path\u001b[49m\u001b[43m,\u001b[49m\u001b[43m \u001b[49m\u001b[33;43m'\u001b[39;49m\u001b[33;43mr\u001b[39;49m\u001b[33;43m'\u001b[39;49m\u001b[43m)\u001b[49m \u001b[38;5;28;01mas\u001b[39;00m file:\n\u001b[32m     13\u001b[39m         config = yaml.safe_load(file)\n\u001b[32m     14\u001b[39m     log.debug(\u001b[33mf\u001b[39m\u001b[33m\"\u001b[39m\u001b[33mConfiguration content: \u001b[39m\u001b[38;5;132;01m{\u001b[39;00mconfig\u001b[38;5;132;01m}\u001b[39;00m\u001b[33m\"\u001b[39m)\n",
      "\u001b[31mFileNotFoundError\u001b[39m: [Errno 2] No such file or directory: 'config\\\\config.yaml'"
     ]
    }
   ],
   "source": [
    "from utills.config_util import load_config\n",
    "\n",
    "config = load_config()\n",
    "\n",
    "\n"
   ]
  },
  {
   "cell_type": "code",
   "execution_count": 1,
   "id": "c4e4aed5",
   "metadata": {},
   "outputs": [
    {
     "name": "stdout",
     "output_type": "stream",
     "text": [
      "holla\n"
     ]
    }
   ],
   "source": [
    "print(\"holla\")"
   ]
  },
  {
   "cell_type": "code",
   "execution_count": 2,
   "id": "90d3c964",
   "metadata": {},
   "outputs": [
    {
     "name": "stdout",
     "output_type": "stream",
     "text": [
      "---1---:  This is a test text. \n",
      " ---2---:  Another text with spaces. \n",
      " ---3---:  Yet another one.  \n"
     ]
    }
   ],
   "source": [
    "test_text = [\"---1---:  This is a test text. \\n ---2---:  Another text with spaces. \\n ---3---:  Yet another one.  \"]\n",
    "for text in test_text:\n",
    "    print(text)"
   ]
  },
  {
   "cell_type": "code",
   "execution_count": 10,
   "id": "54d7298f",
   "metadata": {},
   "outputs": [
    {
     "name": "stdout",
     "output_type": "stream",
     "text": [
      "['---1---:  This is a test text. \\n ---2---:  Another text with spaces. \\n ---3---:  Yet another one.']\n"
     ]
    }
   ],
   "source": [
    "metadata = [\"file_name:test_file.txt\"]\n",
    "test_text_2 = [text.strip() for text in test_text]\n",
    "print(test_text_2)"
   ]
  },
  {
   "cell_type": "code",
   "execution_count": null,
   "id": "93a15e30",
   "metadata": {},
   "outputs": [],
   "source": []
  },
  {
   "cell_type": "code",
   "execution_count": 3,
   "id": "cf2c73b4",
   "metadata": {},
   "outputs": [
    {
     "name": "stdout",
     "output_type": "stream",
     "text": [
      "[Document(metadata={'source': 'test_file.txt'}, page_content='---1---n a quiet village nestled between misty hills, an old clockmaker named Eli crafted timepieces'), Document(metadata={'source': 'test_file.txt'}, page_content='that didnt just tell time—they whispered memories. One day, a boy named Arun wandered into Elis'), Document(metadata={'source': 'test_file.txt'}, page_content='shop, drawn by a peculiar ticking. Eli handed him a pocket watch and said, This one remembers'), Document(metadata={'source': 'test_file.txt'}, page_content='laughter. Arun clicked it open and heard echoes of his late grandmothers giggle. Over time,'), Document(metadata={'source': 'test_file.txt'}, page_content='villagers came seeking watches that held fragments of their past—first steps, lost voices,'), Document(metadata={'source': 'test_file.txt'}, page_content='forgotten songs. Eli never explained how he did it. When he passed, his shop vanished, but the'), Document(metadata={'source': 'test_file.txt'}, page_content='watches remained, ticking gently in pockets and drawers, keeping time—and stories—alive..n a quiet'), Document(metadata={'source': 'test_file.txt'}, page_content='village nestled between misty hills, an old clockmaker named Eli crafted timepieces that didn just'), Document(metadata={'source': 'test_file.txt'}, page_content='tell time—they whispered memories. One day, a boy named Arun wandered into Elis shop, drawn by a'), Document(metadata={'source': 'test_file.txt'}, page_content='peculiar ticking. Eli handed him a pocket watch and said, This one remembers laughter.Arun clicked'), Document(metadata={'source': 'test_file.txt'}, page_content='it open and heard echoes of his late grandmother’s giggle. Over time, villagers came seeking'), Document(metadata={'source': 'test_file.txt'}, page_content='watches that held fragments of their past—first steps, lost voices, forgotten songs. Eli never'), Document(metadata={'source': 'test_file.txt'}, page_content='explained how he did it. When he passed, his shop vanished, but the watches remained, ticking'), Document(metadata={'source': 'test_file.txt'}, page_content='gently in pockets and drawers, keeping time—and stories—alive..chunk_size=400,'), Document(metadata={'source': 'test_file.txt'}, page_content='chunk_overlap=10chunk_size=400, chunk_overlap=100:.In a quiet village nestled between misty hills,'), Document(metadata={'source': 'test_file.txt'}, page_content='an old clockmaker named Eli crafted timepieces that didnt just tell time—they whispered memories.'), Document(metadata={'source': 'test_file.txt'}, page_content='One day, a boy named Arun wandered into Elis shop, drawn by a peculiar ticking. Eli handed him a'), Document(metadata={'source': 'test_file.txt'}, page_content='pocket watch and said, “This one remembers laughter.” Arun clicked it open and heard echoes of his'), Document(metadata={'source': 'test_file.txt'}, page_content='late grandmothers giggle. Over time, villagers came seeking watches that held fragments of their'), Document(metadata={'source': 'test_file.txt'}, page_content='past—first steps, lost voices, forgotten songs. Eli never explained how he did it. When he passed,'), Document(metadata={'source': 'test_file.txt'}, page_content='his shop vanished, but the watches remained, ticking gently in pockets and drawers, keeping'), Document(metadata={'source': 'test_file.txt'}, page_content='time—and stories—alive.This is a test text.---2---:Another text with spaces.---3---:Yet another'), Document(metadata={'source': 'test_file.txt'}, page_content='one.In a quiet village nestled between misty hills, an old clockmaker named Eli crafted timepieces'), Document(metadata={'source': 'test_file.txt'}, page_content='that didnt just tell time—they whispered memories. One day, a boy named Arun wandered into Elis'), Document(metadata={'source': 'test_file.txt'}, page_content='shop, drawn by a peculiar ticking. Eli handed him a pocket watch and said, This one remembers'), Document(metadata={'source': 'test_file.txt'}, page_content='laughter.Arun clicked it open and heard echoes of his late grandmother’s giggle. Over time,'), Document(metadata={'source': 'test_file.txt'}, page_content='villagers came seeking watches that held fragments of their past—first steps, lost voices,'), Document(metadata={'source': 'test_file.txt'}, page_content='forgotten songs. Eli never explained how he did it. When he passed, his shop vanished, but the'), Document(metadata={'source': 'test_file.txt'}, page_content='watches remained, ticking gently in pockets and drawers, keeping time—and stories—alive.')]\n"
     ]
    }
   ],
   "source": [
    "from langchain.text_splitter import CharacterTextSplitter,RecursiveCharacterTextSplitter\n",
    "from langchain.schema import Document\n",
    "documents =[\n",
    "    Document(\n",
    "        page_content= \"---1---n a quiet village nestled between misty hills, an old clockmaker named Eli crafted timepieces that didnt just tell time—they whispered memories. One day, a boy named Arun wandered into Elis shop, drawn by a peculiar ticking. Eli handed him a pocket watch and said, This one remembers laughter. Arun clicked it open and heard echoes of his late grandmothers giggle. Over time, villagers came seeking watches that held fragments of their past—first steps, lost voices, forgotten songs. Eli never explained how he did it. When he passed, his shop vanished, but the watches remained, ticking gently in pockets and drawers, keeping time—and stories—alive..n a quiet village nestled between misty hills, an old clockmaker named Eli crafted timepieces that didn just tell time—they whispered memories. One day, a boy named Arun wandered into Elis shop, drawn by a peculiar ticking. Eli handed him a pocket watch and said, This one remembers laughter.Arun clicked it open and heard echoes of his late grandmother’s giggle. Over time, villagers came seeking watches that held fragments of their past—first steps, lost voices, forgotten songs. Eli never explained how he did it. When he passed, his shop vanished, but the watches remained, ticking gently in pockets and drawers, keeping time—and stories—alive..chunk_size=400, chunk_overlap=10chunk_size=400, chunk_overlap=100:.In a quiet village nestled between misty hills, an old clockmaker named Eli crafted timepieces that didnt just tell time—they whispered memories. One day, a boy named Arun wandered into Elis shop, drawn by a peculiar ticking. Eli handed him a pocket watch and said, “This one remembers laughter.” Arun clicked it open and heard echoes of his late grandmothers giggle. Over time, villagers came seeking watches that held fragments of their past—first steps, lost voices, forgotten songs. Eli never explained how he did it. When he passed, his shop vanished, but the watches remained, ticking gently in pockets and drawers, keeping time—and stories—alive.This is a test text.---2---:Another text with spaces.---3---:Yet another one.In a quiet village nestled between misty hills, an old clockmaker named Eli crafted timepieces that didnt just tell time—they whispered memories. One day, a boy named Arun wandered into Elis shop, drawn by a peculiar ticking. Eli handed him a pocket watch and said, This one remembers laughter.Arun clicked it open and heard echoes of his late grandmother’s giggle. Over time, villagers came seeking watches that held fragments of their past—first steps, lost voices, forgotten songs. Eli never explained how he did it. When he passed, his shop vanished, but the watches remained, ticking gently in pockets and drawers, keeping time—and stories—alive.\" , metadata= {\"source\": \"test_file.txt\"})]\n",
    "\n",
    "text_splitter = RecursiveCharacterTextSplitter(chunk_size = 100,chunk_overlap  = 0,length_function = len)\n",
    "split_docs = text_splitter.split_documents(documents)\n",
    "texts = text_splitter.split_text(documents[0].page_content)\n",
    "print(split_docs)"
   ]
  },
  {
   "cell_type": "code",
   "execution_count": 4,
   "id": "209bb092",
   "metadata": {},
   "outputs": [
    {
     "name": "stdout",
     "output_type": "stream",
     "text": [
      "2756\n",
      "Chunk 1:\n",
      "---1---n a quiet village nestled between misty hills, an old clockmaker named Eli crafted timepieces\n",
      "Metadata: {'source': 'test_file.txt'}\n",
      "\n",
      "Chunk 2:\n",
      "that didnt just tell time—they whispered memories. One day, a boy named Arun wandered into Elis\n",
      "Metadata: {'source': 'test_file.txt'}\n",
      "\n",
      "Chunk 3:\n",
      "shop, drawn by a peculiar ticking. Eli handed him a pocket watch and said, This one remembers\n",
      "Metadata: {'source': 'test_file.txt'}\n",
      "\n",
      "Chunk 4:\n",
      "laughter. Arun clicked it open and heard echoes of his late grandmothers giggle. Over time,\n",
      "Metadata: {'source': 'test_file.txt'}\n",
      "\n",
      "Chunk 5:\n",
      "villagers came seeking watches that held fragments of their past—first steps, lost voices,\n",
      "Metadata: {'source': 'test_file.txt'}\n",
      "\n",
      "Chunk 6:\n",
      "forgotten songs. Eli never explained how he did it. When he passed, his shop vanished, but the\n",
      "Metadata: {'source': 'test_file.txt'}\n",
      "\n",
      "Chunk 7:\n",
      "watches remained, ticking gently in pockets and drawers, keeping time—and stories—alive..n a quiet\n",
      "Metadata: {'source': 'test_file.txt'}\n",
      "\n",
      "Chunk 8:\n",
      "village nestled between misty hills, an old clockmaker named Eli crafted timepieces that didn just\n",
      "Metadata: {'source': 'test_file.txt'}\n",
      "\n",
      "Chunk 9:\n",
      "tell time—they whispered memories. One day, a boy named Arun wandered into Elis shop, drawn by a\n",
      "Metadata: {'source': 'test_file.txt'}\n",
      "\n",
      "Chunk 10:\n",
      "peculiar ticking. Eli handed him a pocket watch and said, This one remembers laughter.Arun clicked\n",
      "Metadata: {'source': 'test_file.txt'}\n",
      "\n",
      "Chunk 11:\n",
      "it open and heard echoes of his late grandmother’s giggle. Over time, villagers came seeking\n",
      "Metadata: {'source': 'test_file.txt'}\n",
      "\n",
      "Chunk 12:\n",
      "watches that held fragments of their past—first steps, lost voices, forgotten songs. Eli never\n",
      "Metadata: {'source': 'test_file.txt'}\n",
      "\n",
      "Chunk 13:\n",
      "explained how he did it. When he passed, his shop vanished, but the watches remained, ticking\n",
      "Metadata: {'source': 'test_file.txt'}\n",
      "\n",
      "Chunk 14:\n",
      "gently in pockets and drawers, keeping time—and stories—alive..chunk_size=400,\n",
      "Metadata: {'source': 'test_file.txt'}\n",
      "\n",
      "Chunk 15:\n",
      "chunk_overlap=10chunk_size=400, chunk_overlap=100:.In a quiet village nestled between misty hills,\n",
      "Metadata: {'source': 'test_file.txt'}\n",
      "\n",
      "Chunk 16:\n",
      "an old clockmaker named Eli crafted timepieces that didnt just tell time—they whispered memories.\n",
      "Metadata: {'source': 'test_file.txt'}\n",
      "\n",
      "Chunk 17:\n",
      "One day, a boy named Arun wandered into Elis shop, drawn by a peculiar ticking. Eli handed him a\n",
      "Metadata: {'source': 'test_file.txt'}\n",
      "\n",
      "Chunk 18:\n",
      "pocket watch and said, “This one remembers laughter.” Arun clicked it open and heard echoes of his\n",
      "Metadata: {'source': 'test_file.txt'}\n",
      "\n",
      "Chunk 19:\n",
      "late grandmothers giggle. Over time, villagers came seeking watches that held fragments of their\n",
      "Metadata: {'source': 'test_file.txt'}\n",
      "\n",
      "Chunk 20:\n",
      "past—first steps, lost voices, forgotten songs. Eli never explained how he did it. When he passed,\n",
      "Metadata: {'source': 'test_file.txt'}\n",
      "\n",
      "Chunk 21:\n",
      "his shop vanished, but the watches remained, ticking gently in pockets and drawers, keeping\n",
      "Metadata: {'source': 'test_file.txt'}\n",
      "\n",
      "Chunk 22:\n",
      "time—and stories—alive.This is a test text.---2---:Another text with spaces.---3---:Yet another\n",
      "Metadata: {'source': 'test_file.txt'}\n",
      "\n",
      "Chunk 23:\n",
      "one.In a quiet village nestled between misty hills, an old clockmaker named Eli crafted timepieces\n",
      "Metadata: {'source': 'test_file.txt'}\n",
      "\n",
      "Chunk 24:\n",
      "that didnt just tell time—they whispered memories. One day, a boy named Arun wandered into Elis\n",
      "Metadata: {'source': 'test_file.txt'}\n",
      "\n",
      "Chunk 25:\n",
      "shop, drawn by a peculiar ticking. Eli handed him a pocket watch and said, This one remembers\n",
      "Metadata: {'source': 'test_file.txt'}\n",
      "\n",
      "Chunk 26:\n",
      "laughter.Arun clicked it open and heard echoes of his late grandmother’s giggle. Over time,\n",
      "Metadata: {'source': 'test_file.txt'}\n",
      "\n",
      "Chunk 27:\n",
      "villagers came seeking watches that held fragments of their past—first steps, lost voices,\n",
      "Metadata: {'source': 'test_file.txt'}\n",
      "\n",
      "Chunk 28:\n",
      "forgotten songs. Eli never explained how he did it. When he passed, his shop vanished, but the\n",
      "Metadata: {'source': 'test_file.txt'}\n",
      "\n",
      "Chunk 29:\n",
      "watches remained, ticking gently in pockets and drawers, keeping time—and stories—alive.\n",
      "Metadata: {'source': 'test_file.txt'}\n",
      "\n"
     ]
    }
   ],
   "source": [
    "print(len(documents[0].page_content))\n",
    "\n",
    "for i, doc in enumerate(split_docs):\n",
    "    print(f\"Chunk {i+1}:\\n{doc.page_content}\\nMetadata: {doc.metadata}\\n\")"
   ]
  },
  {
   "cell_type": "code",
   "execution_count": 5,
   "id": "592e35b3",
   "metadata": {},
   "outputs": [
    {
     "name": "stdout",
     "output_type": "stream",
     "text": [
      "Total chunks: 25\n"
     ]
    }
   ],
   "source": [
    "long_text = \"This is a test sentence. \" * 100  # ~2600 characters\n",
    "documents = [Document(page_content=long_text, metadata={\"source\": \"dummy.txt\"})]\n",
    "split_docs = text_splitter.split_documents(documents)\n",
    "print(f\"Total chunks: {len(split_docs)}\")\n"
   ]
  },
  {
   "cell_type": "code",
   "execution_count": 3,
   "id": "9e5c3d23",
   "metadata": {},
   "outputs": [
    {
     "name": "stdout",
     "output_type": "stream",
     "text": [
      "File does not exist: Data//Resume.pdf\n",
      "Resume.pdf\n",
      "File does not exist: Data//Sample.pdf\n",
      "Sample.pdf\n",
      "File does not exist: Data//Deepak_Baghel_Resume.pdf\n",
      "Deepak_Baghel_Resume.pdf\n"
     ]
    }
   ],
   "source": [
    "file_paths = [\"Data//Resume.pdf\",\"Data//Sample.pdf\",\"Data//Deepak_Baghel_Resume.pdf\"]\n",
    "from pathlib import Path\n",
    "uploaded_files = []\n",
    "for file_path in file_paths:\n",
    "    if Path(file_path).exists():\n",
    "        uploaded_files.append(open(file_path, \"rb\"))\n",
    "    else:\n",
    "        print(f\"File does not exist: {file_path}\")\n",
    "    print(Path(file_path).name)\n",
    "#for file in uploaded_files:\n",
    "    #print(file)\n"
   ]
  },
  {
   "cell_type": "code",
   "execution_count": null,
   "id": "8c960354",
   "metadata": {},
   "outputs": [],
   "source": [
    "import uuid\n",
    "from datetime import datetime,timezone\n",
    "from pathlib import Patb\n",
    "faiss_index_path = \"faiss_index\"\n",
    "file_path = Path(file_path)\n",
    "faiss_index_path = Path(faiss_index_path)\n",
    "file_path.mkdir(parents=True,exist_ok =True)\n",
    "faiss_index_path.mkdir(parents=True,exist_ok=True)\n",
    "\n",
    "session_id_ = session_id or f\"session_{datetime.utcnow().strftime('%Y%m%d_%H%M%S')}_{uuid.uuid4().hex[:8]}\"\n",
    "session_id = Path(self.session_id_)\n",
    "temp_path = self.file_path / self.session_id\n",
    "session_faiss_index = self.faiss_index_path / self.session_id\n",
    "session_id.mkdir(parents=True,exist_ok=True)\n",
    "session_faiss_index.mkdir(parents=True,exist_ok=True)"
   ]
  },
  {
   "cell_type": "code",
   "execution_count": 5,
   "id": "e4be317b",
   "metadata": {},
   "outputs": [
    {
     "name": "stdout",
     "output_type": "stream",
     "text": [
      "['hello world', 'how are you', 'this is a test', 'i am fine']\n"
     ]
    }
   ],
   "source": [
    "file_1 = [\"hello world\",\"how are you\"]\n",
    "file_2 = [\"this is a test\",\"i am fine\"]\n",
    "file_1.extend(file_2)\n",
    "print(file_1)"
   ]
  },
  {
   "cell_type": "code",
   "execution_count": 12,
   "id": "2e00f8f9",
   "metadata": {},
   "outputs": [
    {
     "ename": "ModuleNotFoundError",
     "evalue": "No module named 'prompts_'",
     "output_type": "error",
     "traceback": [
      "\u001b[31m---------------------------------------------------------------------------\u001b[39m",
      "\u001b[31mModuleNotFoundError\u001b[39m                       Traceback (most recent call last)",
      "\u001b[36mCell\u001b[39m\u001b[36m \u001b[39m\u001b[32mIn[12]\u001b[39m\u001b[32m, line 1\u001b[39m\n\u001b[32m----> \u001b[39m\u001b[32m1\u001b[39m \u001b[38;5;28;01mimport\u001b[39;00m\u001b[38;5;250m \u001b[39m\u001b[34;01mprompts_\u001b[39;00m\n",
      "\u001b[31mModuleNotFoundError\u001b[39m: No module named 'prompts_'"
     ]
    }
   ],
   "source": [
    "import prompts_"
   ]
  }
 ],
 "metadata": {
  "kernelspec": {
   "display_name": "myenv (3.12.3)",
   "language": "python",
   "name": "python3"
  },
  "language_info": {
   "codemirror_mode": {
    "name": "ipython",
    "version": 3
   },
   "file_extension": ".py",
   "mimetype": "text/x-python",
   "name": "python",
   "nbconvert_exporter": "python",
   "pygments_lexer": "ipython3",
   "version": "3.12.3"
  }
 },
 "nbformat": 4,
 "nbformat_minor": 5
}
