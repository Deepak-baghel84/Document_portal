{
 "cells": [
  {
   "cell_type": "code",
   "execution_count": 1,
   "id": "a36bfcc5",
   "metadata": {},
   "outputs": [
    {
     "name": "stdout",
     "output_type": "stream",
     "text": [
      "hello world\n"
     ]
    }
   ],
   "source": [
    "print(\"hello world\")"
   ]
  },
  {
   "cell_type": "code",
   "execution_count": 13,
   "id": "43c93aa2",
   "metadata": {},
   "outputs": [],
   "source": [
    "from langchain_groq import ChatGroq\n",
    "from langchain import OpenAI"
   ]
  },
  {
   "cell_type": "code",
   "execution_count": 22,
   "id": "37e47b30",
   "metadata": {},
   "outputs": [],
   "source": [
    "from dotenv import load_dotenv"
   ]
  },
  {
   "cell_type": "code",
   "execution_count": 23,
   "id": "d033aaa8",
   "metadata": {},
   "outputs": [
    {
     "data": {
      "text/plain": [
       "True"
      ]
     },
     "execution_count": 23,
     "metadata": {},
     "output_type": "execute_result"
    }
   ],
   "source": [
    "load_dotenv()"
   ]
  },
  {
   "cell_type": "code",
   "execution_count": 24,
   "id": "3b6e6fe1",
   "metadata": {},
   "outputs": [],
   "source": [
    "model = ChatGroq(model=\"qwen/qwen3-32b\")"
   ]
  },
  {
   "cell_type": "code",
   "execution_count": 25,
   "id": "053ae61e",
   "metadata": {},
   "outputs": [
    {
     "data": {
      "text/plain": [
       "AIMessage(content=\"<think>\\nOkay, so the user is asking for the capital of France. Let me think. I remember that France is a country in Europe, and the capital is a well-known city. Maybe Paris? Wait, isn't Paris famous for the Eiffel Tower and the Louvre Museum? Yeah, that sounds right. But wait, could it be another city? Let me double-check. I think some people might confuse it with Lyon or Marseille, but those are other major cities in France. No, the capital is definitely Paris. It's the political, economic, and cultural center of the country. I'm pretty confident the answer is Paris. Let me just make sure there's no recent change, but I don't think the capital has ever changed. So, the answer should be Paris.\\n</think>\\n\\nThe capital of France is **Paris**. It is renowned for its historical landmarks, such as the Eiffel Tower, the Louvre Museum, and Notre-Dame Cathedral, and serves as the political, economic, and cultural hub of the country.\", additional_kwargs={}, response_metadata={'token_usage': {'completion_tokens': 215, 'prompt_tokens': 15, 'total_tokens': 230, 'completion_time': 0.478531044, 'prompt_time': 0.000520893, 'queue_time': 0.049691843, 'total_time': 0.479051937}, 'model_name': 'qwen/qwen3-32b', 'system_fingerprint': 'fp_f17c2eb555', 'service_tier': 'on_demand', 'finish_reason': 'stop', 'logprobs': None}, id='run--6a5ce76e-0845-40cd-9045-764fee83668a-0', usage_metadata={'input_tokens': 15, 'output_tokens': 215, 'total_tokens': 230})"
      ]
     },
     "execution_count": 25,
     "metadata": {},
     "output_type": "execute_result"
    }
   ],
   "source": [
    "model.invoke(\"What is the capital of France?\")  # Example usage"
   ]
  },
  {
   "cell_type": "code",
   "execution_count": 14,
   "id": "660321ba",
   "metadata": {},
   "outputs": [],
   "source": [
    "from utills.config_util import load_config\n",
    "import yaml\n",
    "\n",
    "def test_load_config():\n",
    "    config = load_config(\"config/config.yaml\")\n",
    "    assert isinstance(config, dict), \"Config should be a dictionary\"\n",
    "    assert \"models\" in config, \"Config should contain 'models' key\"\n",
    "    assert isinstance(config[\"models\"], list), \"Models should be a list\"\n",
    "    assert len(config[\"models\"]) > 0, \"Models list should not be empty\"\n"
   ]
  },
  {
   "cell_type": "code",
   "execution_count": 17,
   "id": "afaeba2d",
   "metadata": {},
   "outputs": [
    {
     "ename": "FileNotFoundError",
     "evalue": "[Errno 2] No such file or directory: 'config\\\\config.yaml'",
     "output_type": "error",
     "traceback": [
      "\u001b[31m---------------------------------------------------------------------------\u001b[39m",
      "\u001b[31mFileNotFoundError\u001b[39m                         Traceback (most recent call last)",
      "\u001b[36mCell\u001b[39m\u001b[36m \u001b[39m\u001b[32mIn[17]\u001b[39m\u001b[32m, line 3\u001b[39m\n\u001b[32m      1\u001b[39m \u001b[38;5;28;01mfrom\u001b[39;00m\u001b[38;5;250m \u001b[39m\u001b[34;01mutills\u001b[39;00m\u001b[34;01m.\u001b[39;00m\u001b[34;01mconfig_util\u001b[39;00m\u001b[38;5;250m \u001b[39m\u001b[38;5;28;01mimport\u001b[39;00m load_config\n\u001b[32m----> \u001b[39m\u001b[32m3\u001b[39m config = \u001b[43mload_config\u001b[49m\u001b[43m(\u001b[49m\u001b[43m)\u001b[49m\n",
      "\u001b[36mFile \u001b[39m\u001b[32mC:\\Genai_projects\\Document_portal\\utills\\config_util.py:12\u001b[39m, in \u001b[36mload_config\u001b[39m\u001b[34m(file_path)\u001b[39m\n\u001b[32m      5\u001b[39m \u001b[38;5;28;01mdef\u001b[39;00m\u001b[38;5;250m \u001b[39m\u001b[34mload_config\u001b[39m(file_path:\u001b[38;5;28mstr\u001b[39m = \u001b[33m\"\u001b[39m\u001b[33mconfig\u001b[39m\u001b[33m\\\u001b[39m\u001b[33mconfig.yaml\u001b[39m\u001b[33m\"\u001b[39m) -> \u001b[38;5;28mdict\u001b[39m:\n\u001b[32m      6\u001b[39m \u001b[38;5;250m    \u001b[39m\u001b[33;03m\"\"\"\u001b[39;00m\n\u001b[32m      7\u001b[39m \u001b[33;03m    Load configuration from a YAML file.\u001b[39;00m\n\u001b[32m      8\u001b[39m \u001b[33;03m    \u001b[39;00m\n\u001b[32m      9\u001b[39m \u001b[33;03m    :param file_path: Path to the YAML configuration file.\u001b[39;00m\n\u001b[32m     10\u001b[39m \u001b[33;03m    :return: Dictionary containing the configuration.\u001b[39;00m\n\u001b[32m     11\u001b[39m \u001b[33;03m    \"\"\"\u001b[39;00m\n\u001b[32m---> \u001b[39m\u001b[32m12\u001b[39m     \u001b[38;5;28;01mwith\u001b[39;00m \u001b[38;5;28;43mopen\u001b[39;49m\u001b[43m(\u001b[49m\u001b[43mfile_path\u001b[49m\u001b[43m,\u001b[49m\u001b[43m \u001b[49m\u001b[33;43m'\u001b[39;49m\u001b[33;43mr\u001b[39;49m\u001b[33;43m'\u001b[39;49m\u001b[43m)\u001b[49m \u001b[38;5;28;01mas\u001b[39;00m file:\n\u001b[32m     13\u001b[39m         config = yaml.safe_load(file)\n\u001b[32m     14\u001b[39m     log.debug(\u001b[33mf\u001b[39m\u001b[33m\"\u001b[39m\u001b[33mConfiguration content: \u001b[39m\u001b[38;5;132;01m{\u001b[39;00mconfig\u001b[38;5;132;01m}\u001b[39;00m\u001b[33m\"\u001b[39m)\n",
      "\u001b[31mFileNotFoundError\u001b[39m: [Errno 2] No such file or directory: 'config\\\\config.yaml'"
     ]
    }
   ],
   "source": [
    "from utills.config_util import load_config\n",
    "\n",
    "config = load_config()\n",
    "\n",
    "\n"
   ]
  },
  {
   "cell_type": "code",
   "execution_count": null,
   "id": "c4e4aed5",
   "metadata": {},
   "outputs": [],
   "source": []
  },
  {
   "cell_type": "code",
   "execution_count": null,
   "id": "4312334b",
   "metadata": {},
   "outputs": [],
   "source": []
  },
  {
   "cell_type": "code",
   "execution_count": null,
   "id": "90d3c964",
   "metadata": {},
   "outputs": [],
   "source": []
  },
  {
   "cell_type": "code",
   "execution_count": null,
   "id": "54d7298f",
   "metadata": {},
   "outputs": [],
   "source": []
  },
  {
   "cell_type": "code",
   "execution_count": null,
   "id": "cf2c73b4",
   "metadata": {},
   "outputs": [],
   "source": []
  }
 ],
 "metadata": {
  "kernelspec": {
   "display_name": "myenv (3.12.3)",
   "language": "python",
   "name": "python3"
  },
  "language_info": {
   "codemirror_mode": {
    "name": "ipython",
    "version": 3
   },
   "file_extension": ".py",
   "mimetype": "text/x-python",
   "name": "python",
   "nbconvert_exporter": "python",
   "pygments_lexer": "ipython3",
   "version": "3.12.3"
  }
 },
 "nbformat": 4,
 "nbformat_minor": 5
}
