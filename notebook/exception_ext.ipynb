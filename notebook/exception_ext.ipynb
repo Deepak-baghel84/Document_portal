{
 "cells": [
  {
   "cell_type": "code",
   "execution_count": 11,
   "id": "21696ede",
   "metadata": {},
   "outputs": [
    {
     "name": "stdout",
     "output_type": "stream",
     "text": [
      "okkay\n"
     ]
    }
   ],
   "source": [
    "print(\"okkay\")"
   ]
  },
  {
   "cell_type": "code",
   "execution_count": 12,
   "id": "73ed2e88",
   "metadata": {},
   "outputs": [],
   "source": [
    "import sys\n",
    "import os\n",
    "import traceback"
   ]
  },
  {
   "cell_type": "code",
   "execution_count": 13,
   "id": "0728eafb",
   "metadata": {},
   "outputs": [],
   "source": [
    "class CustomException(Exception):\n",
    "    def __init__(self, error_message:str,error_details:sys):\n",
    "        self.error_message = error_message\n",
    "        self.error_details = error_details\n",
    "\n",
    "        _,_,exc_tb = error_details.exc_info()\n",
    "        self.file_name = exc_tb.tb_frame.f_code.co_filename\n",
    "        self.line_number = exc_tb.tb_lineno\n",
    "        self.error_message = str(error_message)\n",
    "        self.traceback = ''.join(traceback.format_exception(*error_details.exc_info()))\n",
    "\n",
    "    def __str__(self):\n",
    "        return f\"Error occurred in script: {self.file_name} at line number: {self.line_number} with message: {self.error_message} \\nTraceback: {self.traceback}\"\n",
    "        "
   ]
  },
  {
   "cell_type": "code",
   "execution_count": 14,
   "id": "fb73556e",
   "metadata": {},
   "outputs": [
    {
     "name": "stdout",
     "output_type": "stream",
     "text": [
      "Error occurred in script: C:\\Users\\deepb\\AppData\\Local\\Temp\\ipykernel_16168\\4243955792.py at line number: 3 with message: division by zero \n",
      "Traceback: Traceback (most recent call last):\n",
      "  File \"C:\\Users\\deepb\\AppData\\Local\\Temp\\ipykernel_16168\\4243955792.py\", line 3, in <module>\n",
      "    1 / 0  # Example to raise an exception\n",
      "    ~~^~~\n",
      "ZeroDivisionError: division by zero\n",
      "\n"
     ]
    }
   ],
   "source": [
    " if __name__ == \"__main__\":\n",
    "        try:\n",
    "            1 / 0  # Example to raise an exception\n",
    "        except Exception as e:\n",
    "            error = CustomException(e, sys)\n",
    "            print(error)"
   ]
  },
  {
   "cell_type": "code",
   "execution_count": 15,
   "id": "e610c054",
   "metadata": {},
   "outputs": [
    {
     "ename": "TypeError",
     "evalue": "bad stream: type(stream)=<class 'str'>.",
     "output_type": "error",
     "traceback": [
      "\u001b[31m---------------------------------------------------------------------------\u001b[39m",
      "\u001b[31mTypeError\u001b[39m                                 Traceback (most recent call last)",
      "\u001b[32m~\\AppData\\Local\\Temp\\ipykernel_16168\\1278874665.py\u001b[39m in \u001b[36m?\u001b[39m\u001b[34m()\u001b[39m\n\u001b[32m      1\u001b[39m \u001b[38;5;28;01mimport\u001b[39;00m fitz\n\u001b[32m      2\u001b[39m data_block = []\n\u001b[32m      3\u001b[39m file_path = \u001b[33mr\"Data\\sample.pdf\"\u001b[39m\n\u001b[32m----> \u001b[39m\u001b[32m4\u001b[39m \u001b[38;5;28;01mwith\u001b[39;00m fitz.open(file_path, \u001b[33m\"rb\"\u001b[39m) \u001b[38;5;28;01mas\u001b[39;00m pdf_document:\n\u001b[32m      5\u001b[39m     print(\u001b[33m\"opened pdf successfully\"\u001b[39m)\n",
      "\u001b[32mc:\\Genai_projects\\Document_portal\\myenv\\Lib\\site-packages\\pymupdf\\__init__.py\u001b[39m in \u001b[36m?\u001b[39m\u001b[34m(self, filename, stream, filetype, rect, width, height, fontsize)\u001b[39m\n\u001b[32m   3012\u001b[39m                     self.page_count2 = extra.page_count_pdf\n\u001b[32m   3013\u001b[39m                 \u001b[38;5;28;01melse\u001b[39;00m:\n\u001b[32m   3014\u001b[39m                     self.page_count2 = extra.page_count_fz\n\u001b[32m   3015\u001b[39m         \u001b[38;5;28;01mfinally\u001b[39;00m:\n\u001b[32m-> \u001b[39m\u001b[32m3016\u001b[39m             JM_mupdf_show_errors = JM_mupdf_show_errors_old\n",
      "\u001b[31mTypeError\u001b[39m: bad stream: type(stream)=<class 'str'>."
     ]
    }
   ],
   "source": [
    "import fitz\n",
    "data_block = []\n",
    "file_path = r\"Data\\sample.pdf\"\n",
    "with fitz.open(file_path, \"rb\") as pdf_document:\n",
    "    print(\"opened pdf successfully\")\n"
   ]
  },
  {
   "cell_type": "code",
   "execution_count": 21,
   "id": "ec977dd6",
   "metadata": {},
   "outputs": [
    {
     "name": "stdout",
     "output_type": "stream",
     "text": [
      "opened pdf successfully\n",
      "Extracted text from page\n",
      "Total pages in PDF: 4\n",
      "Data block length: 5\n",
      "Extracted text from page\n",
      "Total pages in PDF: 4\n",
      "Data block length: 6\n",
      "Extracted text from page\n",
      "Total pages in PDF: 4\n",
      "Data block length: 7\n",
      "Extracted text from page\n",
      "Total pages in PDF: 4\n",
      "Data block length: 8\n"
     ]
    }
   ],
   "source": [
    "from pypdf import PdfReader\n",
    "import os\n",
    "\n",
    "#BASE_DIR = os.path.dirname(os.path.abspath(__file__))\n",
    "\n",
    "pdf_path = 'c:\\\\Genai_projects\\\\Document_portal\\\\Data\\\\sample.pdf'\n",
    "\n",
    "with open(pdf_path, \"rb\") as file:\n",
    "    reader = PdfReader(file)\n",
    "    print(\"opened pdf successfully\")\n",
    "    for page in reader.pages:\n",
    "        text = page.extract_text()\n",
    "        if text:\n",
    "            data_block.append(text)\n",
    "            print(\"Extracted text from page\")\n",
    "        print(\"Total pages in PDF:\", len(reader.pages))\n",
    "        print(\"Data block length:\", len(data_block))"
   ]
  },
  {
   "cell_type": "code",
   "execution_count": 16,
   "id": "376a02c4",
   "metadata": {},
   "outputs": [
    {
     "data": {
      "text/plain": [
       "'c:\\\\Genai_projects\\\\Document_portal\\\\notebook\\\\Data\\\\sample.pdf'"
      ]
     },
     "execution_count": 16,
     "metadata": {},
     "output_type": "execute_result"
    }
   ],
   "source": [
    "pdf_path"
   ]
  },
  {
   "cell_type": "code",
   "execution_count": null,
   "id": "bacf6195",
   "metadata": {},
   "outputs": [
    {
     "ename": "FileNotFoundError",
     "evalue": "[Errno 2] No such file or directory: 'c:\\\\Genai_projects\\\\Document_portal\\\\notebook\\\\Data\\\\sample.pdf'",
     "output_type": "error",
     "traceback": [
      "\u001b[31m---------------------------------------------------------------------------\u001b[39m",
      "\u001b[31mFileNotFoundError\u001b[39m                         Traceback (most recent call last)",
      "\u001b[36mCell\u001b[39m\u001b[36m \u001b[39m\u001b[32mIn[5]\u001b[39m\u001b[32m, line 1\u001b[39m\n\u001b[32m----> \u001b[39m\u001b[32m1\u001b[39m \u001b[38;5;28;01mwith\u001b[39;00m \u001b[38;5;28;43mopen\u001b[39;49m\u001b[43m(\u001b[49m\u001b[43mpdf_path\u001b[49m\u001b[43m,\u001b[49m\u001b[43m \u001b[49m\u001b[33;43m\"\u001b[39;49m\u001b[33;43mrb\u001b[39;49m\u001b[33;43m\"\u001b[39;49m\u001b[43m)\u001b[49m \u001b[38;5;28;01mas\u001b[39;00m file:\n\u001b[32m      2\u001b[39m     reader = PdfReader(file)\n\u001b[32m      3\u001b[39m     \u001b[38;5;28mprint\u001b[39m(\u001b[33m\"\u001b[39m\u001b[33mopened pdf successfully\u001b[39m\u001b[33m\"\u001b[39m)\n",
      "\u001b[36mFile \u001b[39m\u001b[32mc:\\Genai_projects\\Document_portal\\myenv\\Lib\\site-packages\\IPython\\core\\interactiveshell.py:343\u001b[39m, in \u001b[36m_modified_open\u001b[39m\u001b[34m(file, *args, **kwargs)\u001b[39m\n\u001b[32m    336\u001b[39m \u001b[38;5;28;01mif\u001b[39;00m file \u001b[38;5;129;01min\u001b[39;00m {\u001b[32m0\u001b[39m, \u001b[32m1\u001b[39m, \u001b[32m2\u001b[39m}:\n\u001b[32m    337\u001b[39m     \u001b[38;5;28;01mraise\u001b[39;00m \u001b[38;5;167;01mValueError\u001b[39;00m(\n\u001b[32m    338\u001b[39m         \u001b[33mf\u001b[39m\u001b[33m\"\u001b[39m\u001b[33mIPython won\u001b[39m\u001b[33m'\u001b[39m\u001b[33mt let you open fd=\u001b[39m\u001b[38;5;132;01m{\u001b[39;00mfile\u001b[38;5;132;01m}\u001b[39;00m\u001b[33m by default \u001b[39m\u001b[33m\"\u001b[39m\n\u001b[32m    339\u001b[39m         \u001b[33m\"\u001b[39m\u001b[33mas it is likely to crash IPython. If you know what you are doing, \u001b[39m\u001b[33m\"\u001b[39m\n\u001b[32m    340\u001b[39m         \u001b[33m\"\u001b[39m\u001b[33myou can use builtins\u001b[39m\u001b[33m'\u001b[39m\u001b[33m open.\u001b[39m\u001b[33m\"\u001b[39m\n\u001b[32m    341\u001b[39m     )\n\u001b[32m--> \u001b[39m\u001b[32m343\u001b[39m \u001b[38;5;28;01mreturn\u001b[39;00m \u001b[43mio_open\u001b[49m\u001b[43m(\u001b[49m\u001b[43mfile\u001b[49m\u001b[43m,\u001b[49m\u001b[43m \u001b[49m\u001b[43m*\u001b[49m\u001b[43margs\u001b[49m\u001b[43m,\u001b[49m\u001b[43m \u001b[49m\u001b[43m*\u001b[49m\u001b[43m*\u001b[49m\u001b[43mkwargs\u001b[49m\u001b[43m)\u001b[49m\n",
      "\u001b[31mFileNotFoundError\u001b[39m: [Errno 2] No such file or directory: 'c:\\\\Genai_projects\\\\Document_portal\\\\notebook\\\\Data\\\\sample.pdf'"
     ]
    }
   ],
   "source": []
  },
  {
   "cell_type": "code",
   "execution_count": null,
   "id": "ee207b4d",
   "metadata": {},
   "outputs": [],
   "source": []
  },
  {
   "cell_type": "code",
   "execution_count": null,
   "id": "cb7cbf95",
   "metadata": {},
   "outputs": [],
   "source": []
  }
 ],
 "metadata": {
  "kernelspec": {
   "display_name": "myenv (3.12.3)",
   "language": "python",
   "name": "python3"
  },
  "language_info": {
   "codemirror_mode": {
    "name": "ipython",
    "version": 3
   },
   "file_extension": ".py",
   "mimetype": "text/x-python",
   "name": "python",
   "nbconvert_exporter": "python",
   "pygments_lexer": "ipython3",
   "version": "3.12.3"
  }
 },
 "nbformat": 4,
 "nbformat_minor": 5
}
