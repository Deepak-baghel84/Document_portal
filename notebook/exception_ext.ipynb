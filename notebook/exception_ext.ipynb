{
 "cells": [
  {
   "cell_type": "code",
   "execution_count": 2,
   "id": "21696ede",
   "metadata": {},
   "outputs": [
    {
     "name": "stdout",
     "output_type": "stream",
     "text": [
      "okkay\n"
     ]
    }
   ],
   "source": [
    "print(\"okkay\")"
   ]
  },
  {
   "cell_type": "code",
   "execution_count": 3,
   "id": "73ed2e88",
   "metadata": {},
   "outputs": [],
   "source": [
    "import sys\n",
    "import os\n",
    "import traceback"
   ]
  },
  {
   "cell_type": "code",
   "execution_count": 7,
   "id": "0728eafb",
   "metadata": {},
   "outputs": [],
   "source": [
    "class CustomException(Exception):\n",
    "    def __init__(self, error_message:str,error_details:sys):\n",
    "        self.error_message = error_message\n",
    "        self.error_details = error_details\n",
    "\n",
    "        _,_,exc_tb = error_details.exc_info()\n",
    "        self.file_name = exc_tb.tb_frame.f_code.co_filename\n",
    "        self.line_number = exc_tb.tb_lineno\n",
    "        self.error_message = str(error_message)\n",
    "        self.traceback = ''.join(traceback.format_exception(*error_details.exc_info()))\n",
    "\n",
    "    def __str__(self):\n",
    "        return f\"Error occurred in script: {self.file_name} at line number: {self.line_number} with message: {self.error_message} \\nTraceback: {self.traceback}\"\n",
    "        "
   ]
  },
  {
   "cell_type": "code",
   "execution_count": 8,
   "id": "fb73556e",
   "metadata": {},
   "outputs": [
    {
     "name": "stdout",
     "output_type": "stream",
     "text": [
      "Error occurred in script: C:\\Users\\deepb\\AppData\\Local\\Temp\\ipykernel_13356\\4243955792.py at line number: 3 with message: division by zero \n",
      "Traceback: Traceback (most recent call last):\n",
      "  File \"C:\\Users\\deepb\\AppData\\Local\\Temp\\ipykernel_13356\\4243955792.py\", line 3, in <module>\n",
      "    1 / 0  # Example to raise an exception\n",
      "    ~~^~~\n",
      "ZeroDivisionError: division by zero\n",
      "\n"
     ]
    }
   ],
   "source": [
    " if __name__ == \"__main__\":\n",
    "        try:\n",
    "            1 / 0  # Example to raise an exception\n",
    "        except Exception as e:\n",
    "            error = CustomException(e, sys)\n",
    "            print(error)"
   ]
  }
 ],
 "metadata": {
  "kernelspec": {
   "display_name": "myenv (3.12.3)",
   "language": "python",
   "name": "python3"
  },
  "language_info": {
   "codemirror_mode": {
    "name": "ipython",
    "version": 3
   },
   "file_extension": ".py",
   "mimetype": "text/x-python",
   "name": "python",
   "nbconvert_exporter": "python",
   "pygments_lexer": "ipython3",
   "version": "3.12.3"
  }
 },
 "nbformat": 4,
 "nbformat_minor": 5
}
