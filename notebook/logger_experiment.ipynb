{
 "cells": [
  {
   "cell_type": "code",
   "execution_count": 32,
   "id": "e7f2a918",
   "metadata": {},
   "outputs": [
    {
     "name": "stdout",
     "output_type": "stream",
     "text": [
      "all ok\n"
     ]
    }
   ],
   "source": [
    "print(\"all ok\")"
   ]
  },
  {
   "cell_type": "code",
   "execution_count": 33,
   "id": "b15b2e1f",
   "metadata": {},
   "outputs": [],
   "source": [
    "import logging\n",
    "import structlog  \n",
    "from datetime import datetime\n",
    "import os"
   ]
  },
  {
   "cell_type": "code",
   "execution_count": 34,
   "id": "f78c94dd",
   "metadata": {},
   "outputs": [],
   "source": [
    "#  create a log folder if it doesn't exist\n",
    "log_file = os.path.join(os.getcwd(), 'log')\n",
    "log_file_path = os.makedirs(log_file, exist_ok=True)"
   ]
  },
  {
   "cell_type": "code",
   "execution_count": 35,
   "id": "83012cf4",
   "metadata": {},
   "outputs": [],
   "source": [
    "# create a log file with the current date\n",
    "log_file_name = f\"{datetime.now().strftime('%a %d %b %Y, %I:%M%p')}.log\"\n",
    "log_file_datetime_path = os.path.join(log_file, log_file_name)"
   ]
  },
  {
   "cell_type": "code",
   "execution_count": 36,
   "id": "5d629688",
   "metadata": {},
   "outputs": [
    {
     "data": {
      "text/plain": [
       "'c:\\\\Genai_projects\\\\Document_portal\\\\notebook\\\\log\\\\Tue 29 Jul 2025, 04:54PM.log'"
      ]
     },
     "execution_count": 36,
     "metadata": {},
     "output_type": "execute_result"
    }
   ],
   "source": [
    "log_file_datetime_path"
   ]
  },
  {
   "cell_type": "code",
   "execution_count": 37,
   "id": "8bad15c2",
   "metadata": {},
   "outputs": [],
   "source": [
    "# logging configuration\n",
    "logging.basicConfig(\n",
    "    filename=log_file_datetime_path,\n",
    "    format='[%(asctime)s] - %(levelname)s - %(name)s (line:%(lineno)d) - %(message)s',\n",
    "    level=logging.INFO,\n",
    ")"
   ]
  },
  {
   "cell_type": "code",
   "execution_count": 38,
   "id": "ec5929f2",
   "metadata": {},
   "outputs": [],
   "source": [
    "logger = logging.getLogger(\"document_test_file\")\n",
    "info = logger.info(\"This is an info message\")"
   ]
  },
  {
   "cell_type": "code",
   "execution_count": 39,
   "id": "fa84b56f",
   "metadata": {},
   "outputs": [],
   "source": [
    "info"
   ]
  }
 ],
 "metadata": {
  "kernelspec": {
   "display_name": "myenv (3.12.3)",
   "language": "python",
   "name": "python3"
  },
  "language_info": {
   "codemirror_mode": {
    "name": "ipython",
    "version": 3
   },
   "file_extension": ".py",
   "mimetype": "text/x-python",
   "name": "python",
   "nbconvert_exporter": "python",
   "pygments_lexer": "ipython3",
   "version": "3.12.3"
  }
 },
 "nbformat": 4,
 "nbformat_minor": 5
}
